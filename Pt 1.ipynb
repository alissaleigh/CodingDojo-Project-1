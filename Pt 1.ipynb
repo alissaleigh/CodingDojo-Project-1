{
  "nbformat": 4,
  "nbformat_minor": 0,
  "metadata": {
    "colab": {
      "provenance": [],
      "authorship_tag": "ABX9TyO/DthZvg/+iontFQ4i5qfa",
      "include_colab_link": true
    },
    "kernelspec": {
      "name": "python3",
      "display_name": "Python 3"
    },
    "language_info": {
      "name": "python"
    }
  },
  "cells": [
    {
      "cell_type": "markdown",
      "metadata": {
        "id": "view-in-github",
        "colab_type": "text"
      },
      "source": [
        "<a href=\"https://colab.research.google.com/github/alissaleigh/food-sales-predictions/blob/main/Project%201.ipynb\" target=\"_parent\"><img src=\"https://colab.research.google.com/assets/colab-badge.svg\" alt=\"Open In Colab\"/></a>"
      ]
    },
    {
      "cell_type": "markdown",
      "source": [
        "# Part 1\n",
        "\n",
        "#####Alissa Butler"
      ],
      "metadata": {
        "id": "1b1jvOd8h8Ki"
      }
    },
    {
      "cell_type": "code",
      "source": [],
      "metadata": {
        "id": "HDq7p4oZiOUO"
      },
      "execution_count": null,
      "outputs": []
    },
    {
      "cell_type": "markdown",
      "source": [
        "## Loading Data"
      ],
      "metadata": {
        "id": "iUamGijSiOy4"
      }
    },
    {
      "cell_type": "code",
      "source": [],
      "metadata": {
        "id": "172ceBv9iZ-6"
      },
      "execution_count": null,
      "outputs": []
    },
    {
      "cell_type": "markdown",
      "source": [
        "## Data Cleaning"
      ],
      "metadata": {
        "id": "TOSNHHutiVIl"
      }
    },
    {
      "cell_type": "code",
      "source": [],
      "metadata": {
        "id": "hPy4PkiwiZgZ"
      },
      "execution_count": null,
      "outputs": []
    },
    {
      "cell_type": "markdown",
      "source": [
        "## Exploratory Visuals"
      ],
      "metadata": {
        "id": "bFTH_REYianB"
      }
    },
    {
      "cell_type": "code",
      "source": [],
      "metadata": {
        "id": "_b1KQ0iDidWg"
      },
      "execution_count": null,
      "outputs": []
    },
    {
      "cell_type": "markdown",
      "source": [
        "## Explanatory Visuals"
      ],
      "metadata": {
        "id": "r9KiC4MDidi9"
      }
    },
    {
      "cell_type": "code",
      "source": [],
      "metadata": {
        "id": "mU62277yifa2"
      },
      "execution_count": null,
      "outputs": []
    }
  ]
}
