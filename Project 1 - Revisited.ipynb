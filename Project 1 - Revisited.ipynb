{
 "cells": [
  {
   "cell_type": "markdown",
   "id": "853ec926",
   "metadata": {},
   "source": [
    "# Revisited"
   ]
  },
  {
   "cell_type": "markdown",
   "id": "999b7097",
   "metadata": {},
   "source": [
    "## Importing and Loading Data"
   ]
  },
  {
   "cell_type": "code",
   "execution_count": 1,
   "id": "5ed5f8a3",
   "metadata": {},
   "outputs": [],
   "source": [
    "import pandas as pd\n",
    "import numpy as np\n",
    "import matplotlib.pyplot as plt\n",
    "import seaborn as sns\n",
    "\n",
    "from sklearn.model_selection import train_test_split\n",
    "from sklearn.compose import make_column_transformer, make_column_selector\n",
    "from sklearn.pipeline import make_pipeline\n",
    "from sklearn.preprocessing import OneHotEncoder, StandardScaler\n",
    "from sklearn.impute import SimpleImputer\n",
    "from sklearn.inspection import permutation_importance\n",
    "\n",
    "from sklearn import metrics\n",
    "from sklearn.linear_model import LinearRegression\n",
    "from sklearn.tree import DecisionTreeRegressor\n",
    "from sklearn.ensemble import RandomForestRegressor\n",
    "import joblib\n",
    "\n",
    "SEED = 321\n",
    "np.random.seed(SEED)"
   ]
  },
  {
   "cell_type": "code",
   "execution_count": 2,
   "id": "334d135f",
   "metadata": {},
   "outputs": [
    {
     "name": "stdout",
     "output_type": "stream",
     "text": [
      "<class 'pandas.core.frame.DataFrame'>\n",
      "RangeIndex: 8523 entries, 0 to 8522\n",
      "Data columns (total 12 columns):\n",
      " #   Column                     Non-Null Count  Dtype  \n",
      "---  ------                     --------------  -----  \n",
      " 0   Item_Identifier            8523 non-null   object \n",
      " 1   Item_Weight                7060 non-null   float64\n",
      " 2   Item_Fat_Content           8523 non-null   object \n",
      " 3   Item_Visibility            8523 non-null   float64\n",
      " 4   Item_Type                  8523 non-null   object \n",
      " 5   Item_MRP                   8523 non-null   float64\n",
      " 6   Outlet_Identifier          8523 non-null   object \n",
      " 7   Outlet_Establishment_Year  8523 non-null   int64  \n",
      " 8   Outlet_Size                6113 non-null   object \n",
      " 9   Outlet_Location_Type       8523 non-null   object \n",
      " 10  Outlet_Type                8523 non-null   object \n",
      " 11  Item_Outlet_Sales          8523 non-null   float64\n",
      "dtypes: float64(4), int64(1), object(7)\n",
      "memory usage: 799.2+ KB\n"
     ]
    },
    {
     "data": {
      "text/html": [
       "<div>\n",
       "<style scoped>\n",
       "    .dataframe tbody tr th:only-of-type {\n",
       "        vertical-align: middle;\n",
       "    }\n",
       "\n",
       "    .dataframe tbody tr th {\n",
       "        vertical-align: top;\n",
       "    }\n",
       "\n",
       "    .dataframe thead th {\n",
       "        text-align: right;\n",
       "    }\n",
       "</style>\n",
       "<table border=\"1\" class=\"dataframe\">\n",
       "  <thead>\n",
       "    <tr style=\"text-align: right;\">\n",
       "      <th></th>\n",
       "      <th>Item_Identifier</th>\n",
       "      <th>Item_Weight</th>\n",
       "      <th>Item_Fat_Content</th>\n",
       "      <th>Item_Visibility</th>\n",
       "      <th>Item_Type</th>\n",
       "      <th>Item_MRP</th>\n",
       "      <th>Outlet_Identifier</th>\n",
       "      <th>Outlet_Establishment_Year</th>\n",
       "      <th>Outlet_Size</th>\n",
       "      <th>Outlet_Location_Type</th>\n",
       "      <th>Outlet_Type</th>\n",
       "      <th>Item_Outlet_Sales</th>\n",
       "    </tr>\n",
       "  </thead>\n",
       "  <tbody>\n",
       "    <tr>\n",
       "      <th>0</th>\n",
       "      <td>FDA15</td>\n",
       "      <td>9.30</td>\n",
       "      <td>Low Fat</td>\n",
       "      <td>0.016047</td>\n",
       "      <td>Dairy</td>\n",
       "      <td>249.8092</td>\n",
       "      <td>OUT049</td>\n",
       "      <td>1999</td>\n",
       "      <td>Medium</td>\n",
       "      <td>Tier 1</td>\n",
       "      <td>Supermarket Type1</td>\n",
       "      <td>3735.1380</td>\n",
       "    </tr>\n",
       "    <tr>\n",
       "      <th>1</th>\n",
       "      <td>DRC01</td>\n",
       "      <td>5.92</td>\n",
       "      <td>Regular</td>\n",
       "      <td>0.019278</td>\n",
       "      <td>Soft Drinks</td>\n",
       "      <td>48.2692</td>\n",
       "      <td>OUT018</td>\n",
       "      <td>2009</td>\n",
       "      <td>Medium</td>\n",
       "      <td>Tier 3</td>\n",
       "      <td>Supermarket Type2</td>\n",
       "      <td>443.4228</td>\n",
       "    </tr>\n",
       "    <tr>\n",
       "      <th>2</th>\n",
       "      <td>FDN15</td>\n",
       "      <td>17.50</td>\n",
       "      <td>Low Fat</td>\n",
       "      <td>0.016760</td>\n",
       "      <td>Meat</td>\n",
       "      <td>141.6180</td>\n",
       "      <td>OUT049</td>\n",
       "      <td>1999</td>\n",
       "      <td>Medium</td>\n",
       "      <td>Tier 1</td>\n",
       "      <td>Supermarket Type1</td>\n",
       "      <td>2097.2700</td>\n",
       "    </tr>\n",
       "    <tr>\n",
       "      <th>3</th>\n",
       "      <td>FDX07</td>\n",
       "      <td>19.20</td>\n",
       "      <td>Regular</td>\n",
       "      <td>0.000000</td>\n",
       "      <td>Fruits and Vegetables</td>\n",
       "      <td>182.0950</td>\n",
       "      <td>OUT010</td>\n",
       "      <td>1998</td>\n",
       "      <td>NaN</td>\n",
       "      <td>Tier 3</td>\n",
       "      <td>Grocery Store</td>\n",
       "      <td>732.3800</td>\n",
       "    </tr>\n",
       "    <tr>\n",
       "      <th>4</th>\n",
       "      <td>NCD19</td>\n",
       "      <td>8.93</td>\n",
       "      <td>Low Fat</td>\n",
       "      <td>0.000000</td>\n",
       "      <td>Household</td>\n",
       "      <td>53.8614</td>\n",
       "      <td>OUT013</td>\n",
       "      <td>1987</td>\n",
       "      <td>High</td>\n",
       "      <td>Tier 3</td>\n",
       "      <td>Supermarket Type1</td>\n",
       "      <td>994.7052</td>\n",
       "    </tr>\n",
       "  </tbody>\n",
       "</table>\n",
       "</div>"
      ],
      "text/plain": [
       "  Item_Identifier  Item_Weight Item_Fat_Content  Item_Visibility  \\\n",
       "0           FDA15         9.30          Low Fat         0.016047   \n",
       "1           DRC01         5.92          Regular         0.019278   \n",
       "2           FDN15        17.50          Low Fat         0.016760   \n",
       "3           FDX07        19.20          Regular         0.000000   \n",
       "4           NCD19         8.93          Low Fat         0.000000   \n",
       "\n",
       "               Item_Type  Item_MRP Outlet_Identifier  \\\n",
       "0                  Dairy  249.8092            OUT049   \n",
       "1            Soft Drinks   48.2692            OUT018   \n",
       "2                   Meat  141.6180            OUT049   \n",
       "3  Fruits and Vegetables  182.0950            OUT010   \n",
       "4              Household   53.8614            OUT013   \n",
       "\n",
       "   Outlet_Establishment_Year Outlet_Size Outlet_Location_Type  \\\n",
       "0                       1999      Medium               Tier 1   \n",
       "1                       2009      Medium               Tier 3   \n",
       "2                       1999      Medium               Tier 1   \n",
       "3                       1998         NaN               Tier 3   \n",
       "4                       1987        High               Tier 3   \n",
       "\n",
       "         Outlet_Type  Item_Outlet_Sales  \n",
       "0  Supermarket Type1          3735.1380  \n",
       "1  Supermarket Type2           443.4228  \n",
       "2  Supermarket Type1          2097.2700  \n",
       "3      Grocery Store           732.3800  \n",
       "4  Supermarket Type1           994.7052  "
      ]
     },
     "execution_count": 2,
     "metadata": {},
     "output_type": "execute_result"
    }
   ],
   "source": [
    "filename = 'Data\\sales_predictions_2023.csv'\n",
    "df = pd.read_csv(filename)\n",
    "df.info()\n",
    "df.head()"
   ]
  },
  {
   "cell_type": "markdown",
   "id": "321a9fb3",
   "metadata": {},
   "source": [
    "## Cleaning"
   ]
  },
  {
   "cell_type": "markdown",
   "id": "6d45bfa4",
   "metadata": {},
   "source": [
    "### Droping Columns"
   ]
  },
  {
   "cell_type": "code",
   "execution_count": 3,
   "id": "de0eaaa2",
   "metadata": {},
   "outputs": [
    {
     "data": {
      "text/html": [
       "<div>\n",
       "<style scoped>\n",
       "    .dataframe tbody tr th:only-of-type {\n",
       "        vertical-align: middle;\n",
       "    }\n",
       "\n",
       "    .dataframe tbody tr th {\n",
       "        vertical-align: top;\n",
       "    }\n",
       "\n",
       "    .dataframe thead th {\n",
       "        text-align: right;\n",
       "    }\n",
       "</style>\n",
       "<table border=\"1\" class=\"dataframe\">\n",
       "  <thead>\n",
       "    <tr style=\"text-align: right;\">\n",
       "      <th></th>\n",
       "      <th>Item_Weight</th>\n",
       "      <th>Item_Fat_Content</th>\n",
       "      <th>Item_Visibility</th>\n",
       "      <th>Item_Type</th>\n",
       "      <th>Item_MRP</th>\n",
       "      <th>Outlet_Establishment_Year</th>\n",
       "      <th>Outlet_Size</th>\n",
       "      <th>Outlet_Location_Type</th>\n",
       "      <th>Outlet_Type</th>\n",
       "      <th>Item_Outlet_Sales</th>\n",
       "    </tr>\n",
       "  </thead>\n",
       "  <tbody>\n",
       "    <tr>\n",
       "      <th>0</th>\n",
       "      <td>9.30</td>\n",
       "      <td>Low Fat</td>\n",
       "      <td>0.016047</td>\n",
       "      <td>Dairy</td>\n",
       "      <td>249.8092</td>\n",
       "      <td>1999</td>\n",
       "      <td>Medium</td>\n",
       "      <td>Tier 1</td>\n",
       "      <td>Supermarket Type1</td>\n",
       "      <td>3735.1380</td>\n",
       "    </tr>\n",
       "    <tr>\n",
       "      <th>1</th>\n",
       "      <td>5.92</td>\n",
       "      <td>Regular</td>\n",
       "      <td>0.019278</td>\n",
       "      <td>Soft Drinks</td>\n",
       "      <td>48.2692</td>\n",
       "      <td>2009</td>\n",
       "      <td>Medium</td>\n",
       "      <td>Tier 3</td>\n",
       "      <td>Supermarket Type2</td>\n",
       "      <td>443.4228</td>\n",
       "    </tr>\n",
       "    <tr>\n",
       "      <th>2</th>\n",
       "      <td>17.50</td>\n",
       "      <td>Low Fat</td>\n",
       "      <td>0.016760</td>\n",
       "      <td>Meat</td>\n",
       "      <td>141.6180</td>\n",
       "      <td>1999</td>\n",
       "      <td>Medium</td>\n",
       "      <td>Tier 1</td>\n",
       "      <td>Supermarket Type1</td>\n",
       "      <td>2097.2700</td>\n",
       "    </tr>\n",
       "    <tr>\n",
       "      <th>3</th>\n",
       "      <td>19.20</td>\n",
       "      <td>Regular</td>\n",
       "      <td>0.000000</td>\n",
       "      <td>Fruits and Vegetables</td>\n",
       "      <td>182.0950</td>\n",
       "      <td>1998</td>\n",
       "      <td>NaN</td>\n",
       "      <td>Tier 3</td>\n",
       "      <td>Grocery Store</td>\n",
       "      <td>732.3800</td>\n",
       "    </tr>\n",
       "    <tr>\n",
       "      <th>4</th>\n",
       "      <td>8.93</td>\n",
       "      <td>Low Fat</td>\n",
       "      <td>0.000000</td>\n",
       "      <td>Household</td>\n",
       "      <td>53.8614</td>\n",
       "      <td>1987</td>\n",
       "      <td>High</td>\n",
       "      <td>Tier 3</td>\n",
       "      <td>Supermarket Type1</td>\n",
       "      <td>994.7052</td>\n",
       "    </tr>\n",
       "  </tbody>\n",
       "</table>\n",
       "</div>"
      ],
      "text/plain": [
       "   Item_Weight Item_Fat_Content  Item_Visibility              Item_Type  \\\n",
       "0         9.30          Low Fat         0.016047                  Dairy   \n",
       "1         5.92          Regular         0.019278            Soft Drinks   \n",
       "2        17.50          Low Fat         0.016760                   Meat   \n",
       "3        19.20          Regular         0.000000  Fruits and Vegetables   \n",
       "4         8.93          Low Fat         0.000000              Household   \n",
       "\n",
       "   Item_MRP  Outlet_Establishment_Year Outlet_Size Outlet_Location_Type  \\\n",
       "0  249.8092                       1999      Medium               Tier 1   \n",
       "1   48.2692                       2009      Medium               Tier 3   \n",
       "2  141.6180                       1999      Medium               Tier 1   \n",
       "3  182.0950                       1998         NaN               Tier 3   \n",
       "4   53.8614                       1987        High               Tier 3   \n",
       "\n",
       "         Outlet_Type  Item_Outlet_Sales  \n",
       "0  Supermarket Type1          3735.1380  \n",
       "1  Supermarket Type2           443.4228  \n",
       "2  Supermarket Type1          2097.2700  \n",
       "3      Grocery Store           732.3800  \n",
       "4  Supermarket Type1           994.7052  "
      ]
     },
     "execution_count": 3,
     "metadata": {},
     "output_type": "execute_result"
    }
   ],
   "source": [
    "df = df.drop(columns=['Item_Identifier', 'Outlet_Identifier'])\n",
    "df.head()"
   ]
  },
  {
   "cell_type": "markdown",
   "id": "1c24784a",
   "metadata": {},
   "source": [
    "### Duplicates"
   ]
  },
  {
   "cell_type": "code",
   "execution_count": 4,
   "id": "73e315e7",
   "metadata": {},
   "outputs": [
    {
     "data": {
      "text/plain": [
       "0"
      ]
     },
     "execution_count": 4,
     "metadata": {},
     "output_type": "execute_result"
    }
   ],
   "source": [
    "df.duplicated().sum()"
   ]
  },
  {
   "cell_type": "markdown",
   "id": "0a797b49",
   "metadata": {},
   "source": [
    "### Missing Values"
   ]
  },
  {
   "cell_type": "code",
   "execution_count": 5,
   "id": "064c9783",
   "metadata": {},
   "outputs": [
    {
     "data": {
      "text/plain": [
       "Item_Weight                  1463\n",
       "Item_Fat_Content                0\n",
       "Item_Visibility                 0\n",
       "Item_Type                       0\n",
       "Item_MRP                        0\n",
       "Outlet_Establishment_Year       0\n",
       "Outlet_Size                  2410\n",
       "Outlet_Location_Type            0\n",
       "Outlet_Type                     0\n",
       "Item_Outlet_Sales               0\n",
       "dtype: int64"
      ]
     },
     "execution_count": 5,
     "metadata": {},
     "output_type": "execute_result"
    }
   ],
   "source": [
    "df.isna().sum()"
   ]
  },
  {
   "cell_type": "code",
   "execution_count": 6,
   "id": "31cb3c43",
   "metadata": {},
   "outputs": [
    {
     "name": "stdout",
     "output_type": "stream",
     "text": [
      "3873 missing values\n"
     ]
    }
   ],
   "source": [
    "print(df.isna().sum().sum(), 'missing values')"
   ]
  },
  {
   "cell_type": "markdown",
   "id": "a3732b39",
   "metadata": {},
   "source": [
    "## Train/Split Data"
   ]
  },
  {
   "cell_type": "code",
   "execution_count": 7,
   "id": "2e82a793",
   "metadata": {},
   "outputs": [],
   "source": [
    "X = df.drop(columns=['Item_Outlet_Sales'])\n",
    "y = df['Item_Outlet_Sales']\n",
    "X_train, X_test, y_train, y_test = train_test_split(X, y, random_state=42)"
   ]
  },
  {
   "cell_type": "markdown",
   "id": "c3246338",
   "metadata": {},
   "source": [
    "## Column Selector and One Hot Encoding"
   ]
  },
  {
   "cell_type": "code",
   "execution_count": 8,
   "id": "ab4e568d",
   "metadata": {},
   "outputs": [
    {
     "data": {
      "text/plain": [
       "['Item_Fat_Content',\n",
       " 'Item_Type',\n",
       " 'Outlet_Size',\n",
       " 'Outlet_Location_Type',\n",
       " 'Outlet_Type']"
      ]
     },
     "execution_count": 8,
     "metadata": {},
     "output_type": "execute_result"
    }
   ],
   "source": [
    "cat_sel = make_column_selector(dtype_include='object')\n",
    "cat_sel(X_train)"
   ]
  },
  {
   "cell_type": "code",
   "execution_count": 9,
   "id": "3e5ffd44",
   "metadata": {},
   "outputs": [
    {
     "data": {
      "text/plain": [
       "['Item_Weight', 'Item_Visibility', 'Item_MRP', 'Outlet_Establishment_Year']"
      ]
     },
     "execution_count": 9,
     "metadata": {},
     "output_type": "execute_result"
    }
   ],
   "source": [
    "num_sel = make_column_selector(dtype_include='number')\n",
    "num_sel(X_train)"
   ]
  },
  {
   "cell_type": "code",
   "execution_count": 10,
   "id": "bb66efed",
   "metadata": {},
   "outputs": [
    {
     "name": "stderr",
     "output_type": "stream",
     "text": [
      "C:\\Users\\aliss\\anaconda3\\lib\\site-packages\\sklearn\\preprocessing\\_encoders.py:868: FutureWarning: `sparse` was renamed to `sparse_output` in version 1.2 and will be removed in 1.4. `sparse_output` is ignored unless you leave `sparse` to its default value.\n",
      "  warnings.warn(\n"
     ]
    },
    {
     "data": {
      "text/html": [
       "<div>\n",
       "<style scoped>\n",
       "    .dataframe tbody tr th:only-of-type {\n",
       "        vertical-align: middle;\n",
       "    }\n",
       "\n",
       "    .dataframe tbody tr th {\n",
       "        vertical-align: top;\n",
       "    }\n",
       "\n",
       "    .dataframe thead th {\n",
       "        text-align: right;\n",
       "    }\n",
       "</style>\n",
       "<table border=\"1\" class=\"dataframe\">\n",
       "  <thead>\n",
       "    <tr style=\"text-align: right;\">\n",
       "      <th></th>\n",
       "      <th>Item_Weight</th>\n",
       "      <th>Item_Visibility</th>\n",
       "      <th>Item_MRP</th>\n",
       "      <th>Outlet_Establishment_Year</th>\n",
       "      <th>Item_Fat_Content_Low Fat</th>\n",
       "      <th>Item_Fat_Content_Regular</th>\n",
       "      <th>Item_Fat_Content_low fat</th>\n",
       "      <th>Item_Fat_Content_reg</th>\n",
       "      <th>Item_Type_Breads</th>\n",
       "      <th>Item_Type_Breakfast</th>\n",
       "      <th>...</th>\n",
       "      <th>Item_Type_Soft Drinks</th>\n",
       "      <th>Item_Type_Starchy Foods</th>\n",
       "      <th>Outlet_Size_MISSING</th>\n",
       "      <th>Outlet_Size_Medium</th>\n",
       "      <th>Outlet_Size_Small</th>\n",
       "      <th>Outlet_Location_Type_Tier 2</th>\n",
       "      <th>Outlet_Location_Type_Tier 3</th>\n",
       "      <th>Outlet_Type_Supermarket Type1</th>\n",
       "      <th>Outlet_Type_Supermarket Type2</th>\n",
       "      <th>Outlet_Type_Supermarket Type3</th>\n",
       "    </tr>\n",
       "  </thead>\n",
       "  <tbody>\n",
       "    <tr>\n",
       "      <th>7503</th>\n",
       "      <td>14.30</td>\n",
       "      <td>0.026300</td>\n",
       "      <td>79.4302</td>\n",
       "      <td>1987.0</td>\n",
       "      <td>1.0</td>\n",
       "      <td>0.0</td>\n",
       "      <td>0.0</td>\n",
       "      <td>0.0</td>\n",
       "      <td>0.0</td>\n",
       "      <td>0.0</td>\n",
       "      <td>...</td>\n",
       "      <td>0.0</td>\n",
       "      <td>0.0</td>\n",
       "      <td>0.0</td>\n",
       "      <td>0.0</td>\n",
       "      <td>0.0</td>\n",
       "      <td>0.0</td>\n",
       "      <td>1.0</td>\n",
       "      <td>1.0</td>\n",
       "      <td>0.0</td>\n",
       "      <td>0.0</td>\n",
       "    </tr>\n",
       "    <tr>\n",
       "      <th>2957</th>\n",
       "      <td>7.93</td>\n",
       "      <td>0.071136</td>\n",
       "      <td>42.7086</td>\n",
       "      <td>1997.0</td>\n",
       "      <td>1.0</td>\n",
       "      <td>0.0</td>\n",
       "      <td>0.0</td>\n",
       "      <td>0.0</td>\n",
       "      <td>0.0</td>\n",
       "      <td>0.0</td>\n",
       "      <td>...</td>\n",
       "      <td>0.0</td>\n",
       "      <td>0.0</td>\n",
       "      <td>0.0</td>\n",
       "      <td>0.0</td>\n",
       "      <td>1.0</td>\n",
       "      <td>0.0</td>\n",
       "      <td>0.0</td>\n",
       "      <td>1.0</td>\n",
       "      <td>0.0</td>\n",
       "      <td>0.0</td>\n",
       "    </tr>\n",
       "    <tr>\n",
       "      <th>7031</th>\n",
       "      <td>14.50</td>\n",
       "      <td>0.041313</td>\n",
       "      <td>42.0454</td>\n",
       "      <td>1999.0</td>\n",
       "      <td>0.0</td>\n",
       "      <td>1.0</td>\n",
       "      <td>0.0</td>\n",
       "      <td>0.0</td>\n",
       "      <td>0.0</td>\n",
       "      <td>0.0</td>\n",
       "      <td>...</td>\n",
       "      <td>0.0</td>\n",
       "      <td>0.0</td>\n",
       "      <td>0.0</td>\n",
       "      <td>1.0</td>\n",
       "      <td>0.0</td>\n",
       "      <td>0.0</td>\n",
       "      <td>0.0</td>\n",
       "      <td>1.0</td>\n",
       "      <td>0.0</td>\n",
       "      <td>0.0</td>\n",
       "    </tr>\n",
       "  </tbody>\n",
       "</table>\n",
       "<p>3 rows × 31 columns</p>\n",
       "</div>"
      ],
      "text/plain": [
       "      Item_Weight  Item_Visibility  Item_MRP  Outlet_Establishment_Year  \\\n",
       "7503        14.30         0.026300   79.4302                     1987.0   \n",
       "2957         7.93         0.071136   42.7086                     1997.0   \n",
       "7031        14.50         0.041313   42.0454                     1999.0   \n",
       "\n",
       "      Item_Fat_Content_Low Fat  Item_Fat_Content_Regular  \\\n",
       "7503                       1.0                       0.0   \n",
       "2957                       1.0                       0.0   \n",
       "7031                       0.0                       1.0   \n",
       "\n",
       "      Item_Fat_Content_low fat  Item_Fat_Content_reg  Item_Type_Breads  \\\n",
       "7503                       0.0                   0.0               0.0   \n",
       "2957                       0.0                   0.0               0.0   \n",
       "7031                       0.0                   0.0               0.0   \n",
       "\n",
       "      Item_Type_Breakfast  ...  Item_Type_Soft Drinks  \\\n",
       "7503                  0.0  ...                    0.0   \n",
       "2957                  0.0  ...                    0.0   \n",
       "7031                  0.0  ...                    0.0   \n",
       "\n",
       "      Item_Type_Starchy Foods  Outlet_Size_MISSING  Outlet_Size_Medium  \\\n",
       "7503                      0.0                  0.0                 0.0   \n",
       "2957                      0.0                  0.0                 0.0   \n",
       "7031                      0.0                  0.0                 1.0   \n",
       "\n",
       "      Outlet_Size_Small  Outlet_Location_Type_Tier 2  \\\n",
       "7503                0.0                          0.0   \n",
       "2957                1.0                          0.0   \n",
       "7031                0.0                          0.0   \n",
       "\n",
       "      Outlet_Location_Type_Tier 3  Outlet_Type_Supermarket Type1  \\\n",
       "7503                          1.0                            1.0   \n",
       "2957                          0.0                            1.0   \n",
       "7031                          0.0                            1.0   \n",
       "\n",
       "      Outlet_Type_Supermarket Type2  Outlet_Type_Supermarket Type3  \n",
       "7503                            0.0                            0.0  \n",
       "2957                            0.0                            0.0  \n",
       "7031                            0.0                            0.0  \n",
       "\n",
       "[3 rows x 31 columns]"
      ]
     },
     "execution_count": 10,
     "metadata": {},
     "output_type": "execute_result"
    }
   ],
   "source": [
    "cat_pipe = make_pipeline(SimpleImputer(strategy='constant',\n",
    "                                       fill_value='MISSING'),\n",
    "                         OneHotEncoder(drop='first', sparse=False))\n",
    "num_pipe = make_pipeline(SimpleImputer(strategy='mean'))\n",
    "\n",
    "preprocessor = make_column_transformer((num_pipe, num_sel),\n",
    "                                       (cat_pipe,cat_sel),\n",
    "                                      verbose_feature_names_out=False)\n",
    "\n",
    "preprocessor.fit(X_train)\n",
    "feature_names = preprocessor.get_feature_names_out()\n",
    "X_train_df = pd.DataFrame(preprocessor.transform(X_train),\n",
    "                           columns = feature_names, index = X_train.index)\n",
    "X_test_df = pd.DataFrame(preprocessor.transform(X_test),\n",
    "                           columns = feature_names, index = X_test.index)\n",
    "X_test_df.head(3)"
   ]
  },
  {
   "cell_type": "markdown",
   "id": "c00a523b",
   "metadata": {},
   "source": [
    "## Liner Regression"
   ]
  },
  {
   "cell_type": "code",
   "execution_count": 11,
   "id": "9af6b01a",
   "metadata": {},
   "outputs": [],
   "source": [
    "lin_reg = LinearRegression()\n",
    "lin_fit = lin_reg.fit(X_train_df, y_train)"
   ]
  },
  {
   "cell_type": "code",
   "execution_count": 12,
   "id": "cebf8f32",
   "metadata": {},
   "outputs": [
    {
     "data": {
      "text/plain": [
       "Item_Weight                           -2.018351\n",
       "Item_Visibility                     -422.374939\n",
       "Item_MRP                              15.715542\n",
       "Outlet_Establishment_Year             28.448501\n",
       "Item_Fat_Content_Low Fat              59.471724\n",
       "Item_Fat_Content_Regular             123.854582\n",
       "Item_Fat_Content_low fat             121.612043\n",
       "Item_Fat_Content_reg                  16.735916\n",
       "Item_Type_Breads                     -28.441001\n",
       "Item_Type_Breakfast                   46.466658\n",
       "Item_Type_Canned                      27.562504\n",
       "Item_Type_Dairy                     -107.176197\n",
       "Item_Type_Frozen Foods                -0.397310\n",
       "Item_Type_Fruits and Vegetables       46.676728\n",
       "Item_Type_Hard Drinks                 12.681833\n",
       "Item_Type_Health and Hygiene          27.747380\n",
       "Item_Type_Household                    6.504272\n",
       "Item_Type_Meat                       -12.054212\n",
       "Item_Type_Others                     -23.996997\n",
       "Item_Type_Seafood                    327.692020\n",
       "Item_Type_Snack Foods                -21.425330\n",
       "Item_Type_Soft Drinks                -38.442960\n",
       "Item_Type_Starchy Foods               48.332756\n",
       "Outlet_Size_MISSING                 -771.527269\n",
       "Outlet_Size_Medium                  -580.688297\n",
       "Outlet_Size_Small                   -634.311688\n",
       "Outlet_Location_Type_Tier 2          -52.448030\n",
       "Outlet_Location_Type_Tier 3         -262.809634\n",
       "Outlet_Type_Supermarket Type1       1534.255619\n",
       "Outlet_Type_Supermarket Type2       1155.591086\n",
       "Outlet_Type_Supermarket Type3       3544.399129\n",
       "intercept                         -57702.273381\n",
       "dtype: float64"
      ]
     },
     "execution_count": 12,
     "metadata": {},
     "output_type": "execute_result"
    }
   ],
   "source": [
    "coeffs = pd.Series(lin_reg.coef_, index= feature_names)\n",
    "coeffs['intercept'] = lin_reg.intercept_\n",
    "coeffs"
   ]
  },
  {
   "cell_type": "markdown",
   "id": "ed1f906f",
   "metadata": {},
   "source": [
    "### Visualize "
   ]
  },
  {
   "cell_type": "code",
   "execution_count": 13,
   "id": "f7aead25",
   "metadata": {},
   "outputs": [],
   "source": [
    "def plot_coeffs(coeffs, top_n=None,  figsize=(4,5), intercept=False):\n",
    "    if (intercept==False) & ('intercept' in coeffs.index):\n",
    "        coeffs = coeffs.drop('intercept')\n",
    "        \n",
    "    if top_n==None:\n",
    "\n",
    "        plot_vals = coeffs.sort_values()\n",
    "        title = \"All Coefficients - Ranked by Magnitude\"\n",
    "    else:\n",
    "\n",
    "        coeff_rank = coeffs.abs().rank().sort_values(ascending=False)\n",
    "        top_n_features = coeff_rank.head(top_n)\n",
    "        plot_vals = coeffs.loc[top_n_features.index].sort_values()\n",
    "\n",
    "        title = f\"Top {top_n} Largest Coefficients\"\n",
    "        \n",
    "    ax = plot_vals.plot(kind='barh', figsize=figsize)\n",
    "    ax.set(xlabel='Coefficient', \n",
    "           ylabel='Feature Names', \n",
    "           title=title)\n",
    "    ax.axvline(0, color='k')\n",
    "\n",
    "    return ax"
   ]
  },
  {
   "cell_type": "code",
   "execution_count": 14,
   "id": "35d061b9",
   "metadata": {},
   "outputs": [
    {
     "data": {
      "image/png": "[encoded data removed]",
      "text/plain": [
       "<Figure size 400x500 with 1 Axes>"
      ]
     },
     "metadata": {},
     "output_type": "display_data"
    }
   ],
   "source": [
    "ax= plot_coeffs(coeffs,top_n=3)"
   ]
  },
  {
   "cell_type": "markdown",
   "id": "737e6e28",
   "metadata": {},
   "source": [
    "## Tree-Based Model"
   ]
  },
  {
   "cell_type": "code",
   "execution_count": 15,
   "id": "dac60ce7",
   "metadata": {},
   "outputs": [],
   "source": [
    "def evaluate_regression(model, X_train,y_train, X_test, y_test):\n",
    "    \n",
    "    y_pred_train = model.predict(X_train)\n",
    "    r2_train = metrics.r2_score(y_train, y_pred_train)\n",
    "    rmse_train = metrics.mean_squared_error(y_train, y_pred_train, \n",
    "                                            squared=False)\n",
    "    \n",
    "    print(f\"Training Data:\\tR^2= {r2_train:.2f}\\tRMSE= {rmse_train:.2f}\")\n",
    "        \n",
    "    \n",
    "    y_pred_test = model.predict(X_test)\n",
    "    r2_test = metrics.r2_score(y_test, y_pred_test)\n",
    "    rmse_test = metrics.mean_squared_error(y_test, y_pred_test, \n",
    "                                            squared=False)\n",
    "    \n",
    "    print(f\"Test Data:\\tR^2= {r2_test:.2f}\\tRMSE= {rmse_test:.2f}\")"
   ]
  },
  {
   "cell_type": "code",
   "execution_count": 16,
   "id": "368d5ec7",
   "metadata": {},
   "outputs": [
    {
     "name": "stdout",
     "output_type": "stream",
     "text": [
      "Training Data:\tR^2= 0.94\tRMSE= 431.35\n",
      "Test Data:\tR^2= 0.55\tRMSE= 1115.75\n"
     ]
    }
   ],
   "source": [
    "reg = RandomForestRegressor(random_state=SEED)\n",
    "reg.fit(X_train_df,y_train)\n",
    "evaluate_regression(reg, X_train_df, y_train, X_test_df, y_test)"
   ]
  },
  {
   "cell_type": "code",
   "execution_count": 17,
   "id": "9a68192b",
   "metadata": {},
   "outputs": [
    {
     "data": {
      "text/plain": [
       "array([0.05540248, 0.10137768, 0.44229604, 0.04236739, 0.00740066,\n",
       "       0.00687624, 0.00171522, 0.00175061, 0.00279937, 0.00286224,\n",
       "       0.00445617, 0.0067291 , 0.00583998, 0.00784133, 0.00303377,\n",
       "       0.00382966, 0.00649201, 0.003765  , 0.00171634, 0.00181595,\n",
       "       0.00866781, 0.00577115, 0.00317152, 0.00419183, 0.02603599,\n",
       "       0.00680857, 0.00310086, 0.00334896, 0.09475678, 0.02233825,\n",
       "       0.11144103])"
      ]
     },
     "execution_count": 17,
     "metadata": {},
     "output_type": "execute_result"
    }
   ],
   "source": [
    "reg.feature_importances_"
   ]
  },
  {
   "cell_type": "code",
   "execution_count": 18,
   "id": "a8ee6fff",
   "metadata": {},
   "outputs": [
    {
     "name": "stdout",
     "output_type": "stream",
     "text": [
      "31\n",
      "31\n"
     ]
    },
    {
     "data": {
      "text/plain": [
       "True"
      ]
     },
     "execution_count": 18,
     "metadata": {},
     "output_type": "execute_result"
    }
   ],
   "source": [
    "print(len(reg.feature_importances_))\n",
    "print(len(X_train_df.columns))\n",
    "len(reg.feature_importances_) == len(X_train_df.columns)"
   ]
  },
  {
   "cell_type": "code",
   "execution_count": 19,
   "id": "e95adf5c",
   "metadata": {},
   "outputs": [
    {
     "data": {
      "text/plain": [
       "Item_Weight                        0.055402\n",
       "Item_Visibility                    0.101378\n",
       "Item_MRP                           0.442296\n",
       "Outlet_Establishment_Year          0.042367\n",
       "Item_Fat_Content_Low Fat           0.007401\n",
       "Item_Fat_Content_Regular           0.006876\n",
       "Item_Fat_Content_low fat           0.001715\n",
       "Item_Fat_Content_reg               0.001751\n",
       "Item_Type_Breads                   0.002799\n",
       "Item_Type_Breakfast                0.002862\n",
       "Item_Type_Canned                   0.004456\n",
       "Item_Type_Dairy                    0.006729\n",
       "Item_Type_Frozen Foods             0.005840\n",
       "Item_Type_Fruits and Vegetables    0.007841\n",
       "Item_Type_Hard Drinks              0.003034\n",
       "Item_Type_Health and Hygiene       0.003830\n",
       "Item_Type_Household                0.006492\n",
       "Item_Type_Meat                     0.003765\n",
       "Item_Type_Others                   0.001716\n",
       "Item_Type_Seafood                  0.001816\n",
       "Item_Type_Snack Foods              0.008668\n",
       "Item_Type_Soft Drinks              0.005771\n",
       "Item_Type_Starchy Foods            0.003172\n",
       "Outlet_Size_MISSING                0.004192\n",
       "Outlet_Size_Medium                 0.026036\n",
       "Outlet_Size_Small                  0.006809\n",
       "Outlet_Location_Type_Tier 2        0.003101\n",
       "Outlet_Location_Type_Tier 3        0.003349\n",
       "Outlet_Type_Supermarket Type1      0.094757\n",
       "Outlet_Type_Supermarket Type2      0.022338\n",
       "Outlet_Type_Supermarket Type3      0.111441\n",
       "Name: Feature Importance, dtype: float64"
      ]
     },
     "execution_count": 19,
     "metadata": {},
     "output_type": "execute_result"
    }
   ],
   "source": [
    "importances = pd.Series(reg.feature_importances_, index= feature_names,\n",
    "                       name='Feature Importance')\n",
    "importances"
   ]
  },
  {
   "cell_type": "code",
   "execution_count": 20,
   "id": "1ece89de",
   "metadata": {},
   "outputs": [
    {
     "data": {
      "text/plain": [
       "1.0"
      ]
     },
     "execution_count": 20,
     "metadata": {},
     "output_type": "execute_result"
    }
   ],
   "source": [
    "importances.sum()"
   ]
  },
  {
   "cell_type": "code",
   "execution_count": 21,
   "id": "ecd5019e",
   "metadata": {},
   "outputs": [
    {
     "data": {
      "text/plain": [
       "Item_MRP                           0.442296\n",
       "Outlet_Type_Supermarket Type3      0.111441\n",
       "Item_Visibility                    0.101378\n",
       "Outlet_Type_Supermarket Type1      0.094757\n",
       "Item_Weight                        0.055402\n",
       "Outlet_Establishment_Year          0.042367\n",
       "Outlet_Size_Medium                 0.026036\n",
       "Outlet_Type_Supermarket Type2      0.022338\n",
       "Item_Type_Snack Foods              0.008668\n",
       "Item_Type_Fruits and Vegetables    0.007841\n",
       "Item_Fat_Content_Low Fat           0.007401\n",
       "Item_Fat_Content_Regular           0.006876\n",
       "Outlet_Size_Small                  0.006809\n",
       "Item_Type_Dairy                    0.006729\n",
       "Item_Type_Household                0.006492\n",
       "Item_Type_Frozen Foods             0.005840\n",
       "Item_Type_Soft Drinks              0.005771\n",
       "Item_Type_Canned                   0.004456\n",
       "Outlet_Size_MISSING                0.004192\n",
       "Item_Type_Health and Hygiene       0.003830\n",
       "Item_Type_Meat                     0.003765\n",
       "Outlet_Location_Type_Tier 3        0.003349\n",
       "Item_Type_Starchy Foods            0.003172\n",
       "Outlet_Location_Type_Tier 2        0.003101\n",
       "Item_Type_Hard Drinks              0.003034\n",
       "Item_Type_Breakfast                0.002862\n",
       "Item_Type_Breads                   0.002799\n",
       "Item_Type_Seafood                  0.001816\n",
       "Item_Fat_Content_reg               0.001751\n",
       "Item_Type_Others                   0.001716\n",
       "Item_Fat_Content_low fat           0.001715\n",
       "Name: Feature Importance, dtype: float64"
      ]
     },
     "execution_count": 21,
     "metadata": {},
     "output_type": "execute_result"
    }
   ],
   "source": [
    "sorted_importance = importances.sort_values(ascending=False)\n",
    "sorted_importance"
   ]
  },
  {
   "cell_type": "markdown",
   "id": "50ab76c3",
   "metadata": {},
   "source": [
    "### Visualize "
   ]
  },
  {
   "cell_type": "code",
   "execution_count": 22,
   "id": "459ba444",
   "metadata": {},
   "outputs": [
    {
     "data": {
      "image/png": "[encoded data removed]",
      "text/plain": [
       "<Figure size 700x500 with 1 Axes>"
      ]
     },
     "metadata": {},
     "output_type": "display_data"
    }
   ],
   "source": [
    "ax = sorted_importance.tail(5).plot(kind='barh',\n",
    "                                    figsize=(7,5),\n",
    "                                      )\n",
    "ax.set(xlabel='Importance',\n",
    "        ylabel='Feature Names',\n",
    "        title='Top 5 Most Important Features');"
   ]
  },
  {
   "cell_type": "markdown",
   "id": "4f2f91e4",
   "metadata": {},
   "source": [
    "## Joblib"
   ]
  },
  {
   "cell_type": "code",
   "execution_count": 23,
   "id": "a36030a6",
   "metadata": {},
   "outputs": [
    {
     "data": {
      "text/plain": [
       "['random_forest_l01.joblib']"
      ]
     },
     "execution_count": 23,
     "metadata": {},
     "output_type": "execute_result"
    }
   ],
   "source": [
    "export = {'X_train':X_train_df,\n",
    "         'y_train': y_train,\n",
    "         'X_test':X_test_df,\n",
    "          \"y_test\": y_test,\n",
    "         'preprocessor':preprocessor,\n",
    "         'RandomForest':reg}\n",
    "joblib.dump(export, 'random_forest_l01.joblib')"
   ]
  },
  {
   "cell_type": "code",
   "execution_count": 24,
   "id": "d84c15b8",
   "metadata": {},
   "outputs": [
    {
     "data": {
      "text/plain": [
       "dict_keys(['X_train', 'y_train', 'X_test', 'y_test', 'preprocessor', 'RandomForest'])"
      ]
     },
     "execution_count": 24,
     "metadata": {},
     "output_type": "execute_result"
    }
   ],
   "source": [
    "loaded = joblib.load('random_forest_l01.joblib')\n",
    "loaded.keys()"
   ]
  },
  {
   "cell_type": "code",
   "execution_count": 25,
   "id": "72954b84",
   "metadata": {},
   "outputs": [],
   "source": [
    "def get_importances(model, feature_names=None,name='Feature Importance',\n",
    "                   sort=False, ascending=True):\n",
    "    \n",
    "    if feature_names == None:\n",
    "        feature_names = model.feature_names_in_\n",
    "    \n",
    "    importances = pd.Series(model.feature_importances_, index= feature_names,\n",
    "                           name=name)\n",
    "\n",
    "    \n",
    "    if sort == True:\n",
    "        importances = importances.sort_values(ascending=ascending)\n",
    "        \n",
    "    return importances"
   ]
  },
  {
   "cell_type": "code",
   "execution_count": 26,
   "id": "d0956d02",
   "metadata": {},
   "outputs": [],
   "source": [
    "def plot_importance_color(importances, top_n=None,  figsize=(8,6), \n",
    "                          color_dict=None):\n",
    "\n",
    "    if top_n==None:\n",
    "\n",
    "        plot_vals = importances.sort_values()\n",
    "        title = \"All Features - Ranked by Importance\"\n",
    "    else:\n",
    "\n",
    "        plot_vals = importances.sort_values().tail(top_n)\n",
    "        title = f\"Top {top_n} Most Important Features\"\n",
    "\n",
    "    if color_dict is not None:\n",
    "\n",
    "        colors = plot_vals.index.map(color_dict)\n",
    "        ax = plot_vals.plot(kind='barh', figsize=figsize, color=colors)\n",
    "        \n",
    "    else:\n",
    "\n",
    "        ax = plot_vals.plot(kind='barh', figsize=figsize)\n",
    "        \n",
    "    ax.set(xlabel='Importance', \n",
    "           ylabel='Feature Names', \n",
    "           title=title)\n",
    "    \n",
    "    return ax"
   ]
  },
  {
   "cell_type": "code",
   "execution_count": 27,
   "id": "08d56a78",
   "metadata": {},
   "outputs": [],
   "source": [
    "X_train_df = loaded['X_train']\n",
    "y_train = loaded['y_train']\n",
    "X_test_df = loaded['X_test']\n",
    "y_test = loaded['y_test']\n",
    "preprocessor = loaded['preprocessor']\n",
    "loaded_model = loaded['RandomForest']"
   ]
  },
  {
   "cell_type": "code",
   "execution_count": 28,
   "id": "ef02d3a7",
   "metadata": {},
   "outputs": [
    {
     "name": "stdout",
     "output_type": "stream",
     "text": [
      "Training Data:\tR^2= 0.94\tRMSE= 431.35\n",
      "Test Data:\tR^2= 0.55\tRMSE= 1115.75\n"
     ]
    },
    {
     "data": {
      "image/png": "[encoded data removed]",
      "text/plain": [
       "<Figure size 800x600 with 1 Axes>"
      ]
     },
     "metadata": {},
     "output_type": "display_data"
    }
   ],
   "source": [
    "evaluate_regression(loaded_model,X_train_df, y_train, X_test_df,y_test)\n",
    "loaded_importances = get_importances(loaded_model)\n",
    "plot_importance_color(loaded_importances,top_n=15,color_dict=None);"
   ]
  }
 ],
 "metadata": {
  "kernelspec": {
   "display_name": "Python (dojo-env)",
   "language": "python",
   "name": "dojo-env"
  },
  "language_info": {
   "codemirror_mode": {
    "name": "ipython",
    "version": 3
   },
   "file_extension": ".py",
   "mimetype": "text/x-python",
   "name": "python",
   "nbconvert_exporter": "python",
   "pygments_lexer": "ipython3",
   "version": "3.10.9"
  },
  "toc": {
   "base_numbering": 1,
   "nav_menu": {},
   "number_sections": true,
   "sideBar": true,
   "skip_h1_title": false,
   "title_cell": "Table of Contents",
   "title_sidebar": "Contents",
   "toc_cell": false,
   "toc_position": {},
   "toc_section_display": true,
   "toc_window_display": false
  }
 },
 "nbformat": 4,
 "nbformat_minor": 5
}
