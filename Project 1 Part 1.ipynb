{
  "nbformat": 4,
  "nbformat_minor": 0,
  "metadata": {
    "colab": {
      "provenance": [],
      "authorship_tag": "ABX9TyNODUkeVjD2MH/BG7qnCvTR",
      "include_colab_link": true
    },
    "kernelspec": {
      "name": "python3",
      "display_name": "Python 3"
    },
    "language_info": {
      "name": "python"
    }
  },
  "cells": [
    {
      "cell_type": "markdown",
      "metadata": {
        "id": "view-in-github",
        "colab_type": "text"
      },
      "source": [
        "<a href=\"https://colab.research.google.com/github/alissaleigh/food-sales-predictions/blob/main/Project%201%20Part%201.ipynb\" target=\"_parent\"><img src=\"https://colab.research.google.com/assets/colab-badge.svg\" alt=\"Open In Colab\"/></a>"
      ]
    },
    {
      "cell_type": "code",
      "execution_count": null,
      "metadata": {
        "id": "GMURCdTTUvBw"
      },
      "outputs": [],
      "source": [
        "H1: \"# Project 1 - Part 1\"\n",
        "'Alissa Butler'\n",
        "H2: \"## Loading Data\"\n",
        "H2: \"## Data Cleaning\"\n",
        "H2: \"## Exploratory Visuals\"\n",
        "H2: \"## Explanatory Visuals\""
      ]
    }
  ]
}